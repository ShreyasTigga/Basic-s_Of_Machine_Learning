{
 "cells": [
  {
   "cell_type": "markdown",
   "id": "640ea94e-1e1b-4c1c-996b-ca1413efa928",
   "metadata": {},
   "source": [
    "### Write a program to print your Name and Roll No."
   ]
  },
  {
   "cell_type": "code",
   "execution_count": 5,
   "id": "8c21cab8-0c01-48e3-842a-c40b5dea12ef",
   "metadata": {},
   "outputs": [
    {
     "name": "stdin",
     "output_type": "stream",
     "text": [
      "Enter your Name :  Shreyas\n"
     ]
    },
    {
     "name": "stdout",
     "output_type": "stream",
     "text": [
      "Your Name is :  Shreyas\n"
     ]
    },
    {
     "name": "stdin",
     "output_type": "stream",
     "text": [
      "Enter your Roll No. :  MCA/10016/24\n"
     ]
    },
    {
     "name": "stdout",
     "output_type": "stream",
     "text": [
      "Your Roll No. is :  MCA/10016/24\n"
     ]
    }
   ],
   "source": [
    "name = input(\"Enter your Name : \")\n",
    "print(\"Your Name is : \", name)\n",
    "\n",
    "roll_no = input(\"Enter your Roll No. : \")\n",
    "print(\"Your Roll No. is : \", roll_no)"
   ]
  },
  {
   "cell_type": "markdown",
   "id": "890ac833-3561-42af-b858-c2e07ae0bcb9",
   "metadata": {},
   "source": [
    "### Write a program to accept two numbers and add, subtract and divide them"
   ]
  },
  {
   "cell_type": "code",
   "execution_count": 4,
   "id": "37647ba0-eb6e-4ab4-8fff-26b9c82f062e",
   "metadata": {},
   "outputs": [
    {
     "name": "stdin",
     "output_type": "stream",
     "text": [
      "Enter first number :  21\n",
      "Enter second number :  14\n"
     ]
    },
    {
     "name": "stdout",
     "output_type": "stream",
     "text": [
      "Sum :  35\n",
      "Difference :  7\n",
      "Quotient :  1.5\n"
     ]
    }
   ],
   "source": [
    "num1 = int(input(\"Enter first number : \"))\n",
    "num2 = int(input(\"Enter second number : \"))\n",
    "\n",
    "add = num1 + num2\n",
    "dif = num1 - num2\n",
    "div = num1 / num2\n",
    "\n",
    "print(\"Sum : \", add)\n",
    "print(\"Difference : \", dif)\n",
    "print(\"Quotient : \", div)"
   ]
  },
  {
   "cell_type": "markdown",
   "id": "2ee4bb87-81d5-426e-87ef-1b04fa2af0ba",
   "metadata": {},
   "source": [
    "### Write a program to accept two strings and concat them"
   ]
  },
  {
   "cell_type": "code",
   "execution_count": 6,
   "id": "55e033ea-cd62-428d-8e0b-16e204828fac",
   "metadata": {},
   "outputs": [
    {
     "name": "stdin",
     "output_type": "stream",
     "text": [
      "Enter first string :  Hello!\n",
      "Enter second string :  World\n"
     ]
    },
    {
     "name": "stdout",
     "output_type": "stream",
     "text": [
      "Hello! World\n"
     ]
    }
   ],
   "source": [
    "str1 = input(\"Enter first string : \")\n",
    "str2 = input(\"Enter second string : \")\n",
    "\n",
    "str = str1 + \" \" + str2\n",
    "print(str)"
   ]
  },
  {
   "cell_type": "markdown",
   "id": "41a94f95-9d2e-44ce-9a68-9f9ab1f46cfa",
   "metadata": {},
   "source": [
    "### Write a program to accept three numbers and find the greatest among the three numbers"
   ]
  },
  {
   "cell_type": "markdown",
   "id": "090cbf1a-044e-4f7c-8e01-1200e7c34463",
   "metadata": {},
   "source": [
    "num1 = int(input(\"Enter first number : \"))\n",
    "num2 = int(input(\"Enter second number : \"))         \n",
    "num3 = int(input(\"Enter third number : \"))\n",
    "\n",
    "if(num1 >= num2 and num1 >= num3):\n",
    "    print(num1 ,\"is greatest\") \n",
    "elif(num2 >= num1 and num2 >= num3):\n",
    "    print(num2 ,\"is greatest\")\n",
    "else:\n",
    "    print(num3 ,\"is greatest\")"
   ]
  },
  {
   "cell_type": "markdown",
   "id": "e66dcee8-31ef-44c9-8619-0b7b62a26770",
   "metadata": {},
   "source": [
    "### Write a program to print \"India is the best\" 10 times"
   ]
  },
  {
   "cell_type": "code",
   "execution_count": 14,
   "id": "57290b3e-54bb-432e-874c-53ba8ae7e679",
   "metadata": {},
   "outputs": [
    {
     "name": "stdout",
     "output_type": "stream",
     "text": [
      "India is the best\n",
      "India is the best\n",
      "India is the best\n",
      "India is the best\n",
      "India is the best\n",
      "India is the best\n",
      "India is the best\n",
      "India is the best\n",
      "India is the best\n",
      "India is the best\n"
     ]
    }
   ],
   "source": [
    "for i in range(0,10):\n",
    "    print(\"India is the best\")"
   ]
  },
  {
   "cell_type": "markdown",
   "id": "48d30c84-5b55-4d26-bb44-d65b64d2ff8f",
   "metadata": {},
   "source": [
    "### Write a program to print first n elements of the Fibonacci Series"
   ]
  },
  {
   "cell_type": "code",
   "execution_count": 22,
   "id": "b8bd22a5-ed96-4c29-9fbe-ef26879b23a6",
   "metadata": {},
   "outputs": [
    {
     "name": "stdin",
     "output_type": "stream",
     "text": [
      "Enter the value of n :  7\n"
     ]
    },
    {
     "name": "stdout",
     "output_type": "stream",
     "text": [
      "Fibonacci Series till 7 th element : \n",
      "0 1 1 2 3 5 8 "
     ]
    }
   ],
   "source": [
    "n = int(input(\"Enter the value of n : \"))\n",
    "sum = 0\n",
    "i = 0\n",
    "j = 1\n",
    "\n",
    "print(\"Fibonacci Series till\",n,\"th element : \")\n",
    "\n",
    "while(n != 2):\n",
    "    if(i == 0):\n",
    "        print(i, end=\" \")\n",
    "        print(j, end=\" \")\n",
    "    sum = i + j\n",
    "    print(sum, end=\" \")\n",
    "    i = j\n",
    "    j = sum\n",
    "    n = n - 1"
   ]
  }
 ],
 "metadata": {
  "kernelspec": {
   "display_name": "Python 3 (ipykernel)",
   "language": "python",
   "name": "python3"
  },
  "language_info": {
   "codemirror_mode": {
    "name": "ipython",
    "version": 3
   },
   "file_extension": ".py",
   "mimetype": "text/x-python",
   "name": "python",
   "nbconvert_exporter": "python",
   "pygments_lexer": "ipython3",
   "version": "3.13.2"
  }
 },
 "nbformat": 4,
 "nbformat_minor": 5
}
